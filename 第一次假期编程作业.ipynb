{
 "cells": [
  {
   "cell_type": "code",
   "execution_count": 20,
   "metadata": {
    "collapsed": true
   },
   "outputs": [],
   "source": [
    "def panduan(a):#判断\n",
    "    if (a.find('等于')!=-1):\n",
    "        chu(a)\n",
    "    if (a.find('增加')!=-1):\n",
    "        jiajian(a)\n",
    "    if (a.find('看看')!=-1):\n",
    "        kankan(qiwen)\n",
    "    if (a.find('减少')!=-1):\n",
    "        jiajian(a)"
   ]
  },
  {
   "cell_type": "code",
   "execution_count": 21,
   "metadata": {
    "collapsed": true
   },
   "outputs": [],
   "source": [
    "def chu(str):#初始化\n",
    "    global qiwen\n",
    "    a=str.split(' ')\n",
    "    if (len(a[3].split('十'))==1):\n",
    "        qiwen=shu(a[3])\n",
    "    if(len(a[3].split('十'))==2):\n",
    "        qiwen=shuzi(a[3])"
   ]
  },
  {
   "cell_type": "code",
   "execution_count": 22,
   "metadata": {
    "collapsed": true
   },
   "outputs": [],
   "source": [
    "def jiajian(str):\n",
    "    global qiwen\n",
    "    s=str.split(' ')\n",
    "    qiwen=fu(s)"
   ]
  },
  {
   "cell_type": "code",
   "execution_count": 23,
   "metadata": {
    "collapsed": true
   },
   "outputs": [],
   "source": [
    "def kankan(a):\n",
    "    if (a>10):\n",
    "        if(a>10):\n",
    "            print(hanzi(qiwen))\n",
    "        else:\n",
    "            print(han(qiwen))\n",
    "        print(\"看看 你好，世界\")\n",
    "    else:\n",
    "        print(han(qiwen))\n",
    "        print(\"看看 冻死我了\")"
   ]
  },
  {
   "cell_type": "code",
   "execution_count": 24,
   "metadata": {
    "collapsed": true
   },
   "outputs": [],
   "source": [
    "def fu(a):\n",
    "    if (a[1] == '增加'):\n",
    "        if (len(a[2].split('十'))==1):\n",
    "            return qiwen+shu(a[2])\n",
    "        if(len(a[2].split('十'))==2):\n",
    "            return qiwen+shuzi(a[2])\n",
    "    if (a[1] == '减少'):\n",
    "        if (len(a[2].split('十'))==1):\n",
    "            return qiwen-shu(a[2])\n",
    "        if(len(a[2].split('十'))==2):\n",
    "            return qiwen-shuzi(a[2])"
   ]
  },
  {
   "cell_type": "code",
   "execution_count": 25,
   "metadata": {
    "collapsed": true
   },
   "outputs": [],
   "source": [
    "def shuzi(s):\n",
    "    if (len(s)!=3):\n",
    "         if (s == '十'):\n",
    "            return 10\n",
    "         if (s == '十一'):\n",
    "            return 11\n",
    "         if (s == '十二'):\n",
    "            return 12\n",
    "         if (s == '十三'):\n",
    "            return 13\n",
    "         if (s == '十四'):\n",
    "            return 14\n",
    "         if (s == '十五'):\n",
    "            return 15\n",
    "         if (s == '十六'):\n",
    "            return 16\n",
    "         if (s == '十七'):\n",
    "            return 17\n",
    "         if (s == '十八'):\n",
    "            return 18\n",
    "         if (s == '十九'):\n",
    "            return 19\n",
    "         if (s == '二十'):\n",
    "            return 20\n",
    "         if (s == '三十'):\n",
    "            return 30\n",
    "         if (s == '四十'):\n",
    "            return 40\n",
    "         if (s == '五十'):\n",
    "            return 50\n",
    "         if (s == '六十'):\n",
    "            return 60\n",
    "         if (s == '七十'):\n",
    "            return 70\n",
    "         if (s == '八十'):\n",
    "            return 80\n",
    "         if (s == '九十'):\n",
    "            return 90\n",
    "    else:\n",
    "        a=s.split('十')\n",
    "        if (a[0] == '一'):\n",
    "            z=10\n",
    "        if (a[0] == '二'):\n",
    "            z=20\n",
    "        if (a[0] == '三'):\n",
    "            z=30\n",
    "        if (a[0] == '四'):\n",
    "            z=40\n",
    "        if (a[0] == '五'):\n",
    "            z=50\n",
    "        if (a[0] == '六'):\n",
    "            z=60\n",
    "        if (a[0] == '七'):\n",
    "            z=70\n",
    "        if (a[0] == '八'):\n",
    "            z=80\n",
    "        if (a[0] == '九'):\n",
    "            z=90\n",
    "        if (a[1] == '一'):\n",
    "            x=1\n",
    "        if (a[1] == '二'):\n",
    "            x=2\n",
    "        if (a[1] == '三'):\n",
    "            x=3\n",
    "        if (a[1] == '四'):\n",
    "            x=4\n",
    "        if (a[1] == '五'):\n",
    "            x=5\n",
    "        if (a[1] == '六'):\n",
    "            x=6\n",
    "        if (a[1] == '七'):\n",
    "            x=7\n",
    "        if (a[1] == '八'):\n",
    "            x=8\n",
    "        if (a[1] == '九'):\n",
    "            x=9\n",
    "        return z+x"
   ]
  },
  {
   "cell_type": "code",
   "execution_count": 26,
   "metadata": {
    "collapsed": true
   },
   "outputs": [],
   "source": [
    "def shu(a):\n",
    "    if (a == '零'):\n",
    "        return 0\n",
    "    if (a == '一'):\n",
    "        return 1\n",
    "    if (a == '二'):\n",
    "        return 2\n",
    "    if (a == '三'):\n",
    "        return 3\n",
    "    if (a == '四'):\n",
    "        return 4\n",
    "    if (a == '五'):\n",
    "        return 5\n",
    "    if (a == '六'):\n",
    "        return 6\n",
    "    if (a == '七'):\n",
    "        return 7\n",
    "    if (a == '八'):\n",
    "        return 8\n",
    "    if (a == '九'):\n",
    "        return 9\n",
    "    if (a == '一百'):\n",
    "        return 100"
   ]
  },
  {
   "cell_type": "code",
   "execution_count": 27,
   "metadata": {
    "collapsed": true
   },
   "outputs": [],
   "source": [
    "def han(a):\n",
    "    if (a == 0):\n",
    "        return '零'\n",
    "    if (a == 1):\n",
    "        return '一'\n",
    "    if (a == 2):\n",
    "        return '二'\n",
    "    if (a == 3):\n",
    "        return '三'\n",
    "    if (a == 4):\n",
    "        return '四'\n",
    "    if (a == 5):\n",
    "        return '五'\n",
    "    if (a == 6):\n",
    "        return '六'\n",
    "    if (a == 7):\n",
    "        return '七'\n",
    "    if (a == 8):\n",
    "        return '八'\n",
    "    if (a == 9):\n",
    "        return '九'\n",
    "    if (a == 10):\n",
    "        return '十'\n",
    "    if (a == 11):\n",
    "        return '十一'\n",
    "    if (a == 12):\n",
    "        return '十二'\n",
    "    if (a == 13):\n",
    "        return '十三'\n",
    "    if (a == 14):\n",
    "        return '十四'\n",
    "    if (a == 15):\n",
    "        return '十五'\n",
    "    if (a == 16):\n",
    "        return '十六'\n",
    "    if (a == 17):\n",
    "        return '十七'\n",
    "    if (a == 18):\n",
    "        return '十八'\n",
    "    if (a == 19):\n",
    "        return '十九'\n",
    "    if (a == 20):\n",
    "        return '二十'"
   ]
  },
  {
   "cell_type": "code",
   "execution_count": 28,
   "metadata": {
    "collapsed": true
   },
   "outputs": [],
   "source": [
    "def hanzi(a):\n",
    "    if a%10==0:\n",
    "        if (a/10 == 10):\n",
    "            return '一百'\n",
    "        if (a/10 == 2):\n",
    "            return '二十'\n",
    "        if (a/10 == 3):\n",
    "            return '三十'\n",
    "        if (a/10 == 4):\n",
    "            return '四十'\n",
    "        if (a/10 == 5):\n",
    "            return '五十'\n",
    "        if (a/10 == 6):\n",
    "            return '六十'\n",
    "        if (a/10 == 7):\n",
    "            return '七十'\n",
    "        if (a/10 == 8):\n",
    "            return '八十'\n",
    "        if (a/10 == 9):\n",
    "            return '九十'\n",
    "    else:\n",
    "        s=a//10\n",
    "        d=a%10\n",
    "        if (s == 2):\n",
    "            z = '二十'\n",
    "        if (s == 3):\n",
    "            z = '三十'\n",
    "        if (s == 4):\n",
    "            z = '四十'\n",
    "        if (s == 5):\n",
    "            z = '五十'\n",
    "        if (s == 6):\n",
    "            z = '六十'\n",
    "        if (s == 7):\n",
    "            z = '七十'\n",
    "        if (s == 8):\n",
    "            z = '八十'\n",
    "        if (s == 9):\n",
    "            z = '九十'\n",
    "        if (d == 1):\n",
    "            x = '一'\n",
    "        if (d == 2):\n",
    "            x = '二'\n",
    "        if (d == 3):\n",
    "            x = '三'\n",
    "        if (d == 4):\n",
    "            x = '四'\n",
    "        if (d == 5):\n",
    "            x = '五'\n",
    "        if (d == 6):\n",
    "            x = '六'\n",
    "        if (d == 7):\n",
    "            x = '七'\n",
    "        if (d == 8):\n",
    "            x = '八'\n",
    "        if (d == 9):\n",
    "            x = '九'\n",
    "        y=z+x\n",
    "        return y"
   ]
  },
  {
   "cell_type": "code",
   "execution_count": 29,
   "metadata": {},
   "outputs": [
    {
     "name": "stdout",
     "output_type": "stream",
     "text": [
      "请输入：整数 气温 等于 十\n",
      "请输入：气温 减少 三\n",
      "请输入：气温 增加 二\n",
      "请输入：看看 气温\n",
      "九\n",
      "看看 冻死我了\n"
     ]
    }
   ],
   "source": [
    "a=0\n",
    "while a<8:\n",
    "    str = input(\"请输入：\");\n",
    "    panduan(str)\n",
    "    a=a+2"
   ]
  },
  {
   "cell_type": "code",
   "execution_count": null,
   "metadata": {
    "collapsed": true
   },
   "outputs": [],
   "source": []
  }
 ],
 "metadata": {
  "kernelspec": {
   "display_name": "Python 3",
   "language": "python",
   "name": "python3"
  },
  "language_info": {
   "codemirror_mode": {
    "name": "ipython",
    "version": 3
   },
   "file_extension": ".py",
   "mimetype": "text/x-python",
   "name": "python",
   "nbconvert_exporter": "python",
   "pygments_lexer": "ipython3",
   "version": "3.6.1"
  }
 },
 "nbformat": 4,
 "nbformat_minor": 2
}
