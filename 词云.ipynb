{
 "cells": [
  {
   "cell_type": "code",
   "execution_count": 1,
   "metadata": {},
   "outputs": [
    {
     "name": "stderr",
     "output_type": "stream",
     "text": [
      "Building prefix dict from the default dictionary ...\n",
      "Loading model from cache C:\\Users\\94736\\AppData\\Local\\Temp\\jieba.cache\n",
      "Loading model cost 0.938 seconds.\n",
      "Prefix dict has been built successfully.\n"
     ]
    },
    {
     "data": {
      "text/plain": [
       "<wordcloud.wordcloud.WordCloud at 0x1cebddf2a58>"
      ]
     },
     "execution_count": 1,
     "metadata": {},
     "output_type": "execute_result"
    }
   ],
   "source": [
    "from PIL import Image\n",
    "from wordcloud import WordCloud\n",
    "import jieba\n",
    "import numpy as np\n",
    "\n",
    "#1:打开词云文本\n",
    "txt = open(\"a.txt\",\"rb\").read()\n",
    "#2:用jieba进行分词\n",
    "txtout = \"\".join( jieba.cut(txt,cut_all=False) )\n",
    "\n",
    "#3:读取词云图片\n",
    "mask_pic = Image.open(\"china.png\")\n",
    "mask_pic_array = np.array(mask_pic)#将词云图片转换为数组\n",
    "\n",
    "#4:设置词云的属性\n",
    "font = \"msyh.ttc\"#词云的中文字体所在路径\n",
    "wc = WordCloud(font_path = font,\n",
    "               background_color=\"white\",\n",
    "               mask = mask_pic_array,\n",
    "               contour_width=5, scale=8,\n",
    "               contour_color=\"lightblue\",\n",
    "               )\n",
    "\n",
    "#5:生成词云\n",
    "wc.generate(txtout)\n",
    "\n",
    "#6:存储词云\n",
    "wc.to_file(\"1.png\")"
   ]
  },
  {
   "cell_type": "code",
   "execution_count": null,
   "metadata": {
    "collapsed": true
   },
   "outputs": [],
   "source": []
  }
 ],
 "metadata": {
  "kernelspec": {
   "display_name": "Python 3",
   "language": "python",
   "name": "python3"
  },
  "language_info": {
   "codemirror_mode": {
    "name": "ipython",
    "version": 3
   },
   "file_extension": ".py",
   "mimetype": "text/x-python",
   "name": "python",
   "nbconvert_exporter": "python",
   "pygments_lexer": "ipython3",
   "version": "3.6.1"
  }
 },
 "nbformat": 4,
 "nbformat_minor": 2
}
